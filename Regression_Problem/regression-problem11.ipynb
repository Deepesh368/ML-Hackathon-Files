{
 "cells": [
  {
   "cell_type": "code",
   "execution_count": 2,
   "metadata": {
    "_cell_guid": "b1076dfc-b9ad-4769-8c92-a6c4dae69d19",
    "_uuid": "8f2839f25d086af736a60e9eeb907d3b93b6e0e5",
    "execution": {
     "iopub.execute_input": "2021-10-10T16:03:56.638931Z",
     "iopub.status.busy": "2021-10-10T16:03:56.638671Z",
     "iopub.status.idle": "2021-10-10T16:03:56.646702Z",
     "shell.execute_reply": "2021-10-10T16:03:56.646039Z",
     "shell.execute_reply.started": "2021-10-10T16:03:56.638904Z"
    }
   },
   "outputs": [],
   "source": [
    "import os\n",
    "for dirname, _, filenames in os.walk('/kaggle/input'):\n",
    "    for filename in filenames:\n",
    "        print(os.path.join(dirname, filename))"
   ]
  },
  {
   "cell_type": "code",
   "execution_count": 3,
   "metadata": {
    "execution": {
     "iopub.execute_input": "2021-10-10T16:03:59.871703Z",
     "iopub.status.busy": "2021-10-10T16:03:59.871312Z",
     "iopub.status.idle": "2021-10-10T16:04:00.259042Z",
     "shell.execute_reply": "2021-10-10T16:04:00.258352Z",
     "shell.execute_reply.started": "2021-10-10T16:03:59.871675Z"
    }
   },
   "outputs": [],
   "source": [
    "import numpy as np \n",
    "import pandas as pd \n",
    "import matplotlib.pyplot as plt \n",
    "import seaborn as sns \n",
    "import sklearn.preprocessing as preprocessing \n",
    "import sklearn.metrics as metrics \n",
    "import sklearn.calibration as calibration \n",
    "import sklearn.linear_model as linear_model \n",
    "import sklearn.svm as svm \n",
    "import sklearn.naive_bayes as naive_bayes\n",
    "import sklearn.model_selection as model_selection"
   ]
  },
  {
   "cell_type": "code",
   "execution_count": 4,
   "metadata": {
    "execution": {
     "iopub.execute_input": "2021-10-10T16:04:01.016352Z",
     "iopub.status.busy": "2021-10-10T16:04:01.015616Z",
     "iopub.status.idle": "2021-10-10T16:04:01.051584Z",
     "shell.execute_reply": "2021-10-10T16:04:01.050269Z",
     "shell.execute_reply.started": "2021-10-10T16:04:01.016302Z"
    }
   },
   "outputs": [],
   "source": [
    "train_dataset = pd.read_csv(\"/kaggle/input/iiitb-ai511-ml-2021-assignment-2-group-3/train.csv\")\n",
    "test_dataset = pd.read_csv(\"/kaggle/input/iiitb-ai511-ml-2021-assignment-2-group-3/test.csv\")\n",
    "\n",
    "combined_dataset = train_dataset.append(test_dataset)"
   ]
  },
  {
   "cell_type": "code",
   "execution_count": 5,
   "metadata": {
    "execution": {
     "iopub.execute_input": "2021-10-10T16:04:02.766451Z",
     "iopub.status.busy": "2021-10-10T16:04:02.766035Z",
     "iopub.status.idle": "2021-10-10T16:04:02.779322Z",
     "shell.execute_reply": "2021-10-10T16:04:02.778406Z",
     "shell.execute_reply.started": "2021-10-10T16:04:02.766420Z"
    }
   },
   "outputs": [],
   "source": [
    "combined_dataset.head()"
   ]
  },
  {
   "cell_type": "code",
   "execution_count": 6,
   "metadata": {
    "execution": {
     "iopub.execute_input": "2021-10-10T16:04:03.770625Z",
     "iopub.status.busy": "2021-10-10T16:04:03.769752Z",
     "iopub.status.idle": "2021-10-10T16:04:03.795079Z",
     "shell.execute_reply": "2021-10-10T16:04:03.794275Z",
     "shell.execute_reply.started": "2021-10-10T16:04:03.770582Z"
    }
   },
   "outputs": [],
   "source": [
    "combined_dataset.describe()"
   ]
  },
  {
   "cell_type": "code",
   "execution_count": 7,
   "metadata": {
    "execution": {
     "iopub.execute_input": "2021-10-10T16:04:04.218066Z",
     "iopub.status.busy": "2021-10-10T16:04:04.217818Z",
     "iopub.status.idle": "2021-10-10T16:04:04.225622Z",
     "shell.execute_reply": "2021-10-10T16:04:04.224697Z",
     "shell.execute_reply.started": "2021-10-10T16:04:04.218039Z"
    }
   },
   "outputs": [],
   "source": [
    "combined_dataset.isna().sum()"
   ]
  },
  {
   "cell_type": "code",
   "execution_count": 8,
   "metadata": {
    "execution": {
     "iopub.execute_input": "2021-10-10T16:04:04.770915Z",
     "iopub.status.busy": "2021-10-10T16:04:04.770650Z",
     "iopub.status.idle": "2021-10-10T16:04:04.780426Z",
     "shell.execute_reply": "2021-10-10T16:04:04.779584Z",
     "shell.execute_reply.started": "2021-10-10T16:04:04.770888Z"
    }
   },
   "outputs": [],
   "source": [
    "(combined_dataset == \"?\").sum()"
   ]
  },
  {
   "cell_type": "code",
   "execution_count": 9,
   "metadata": {
    "execution": {
     "iopub.execute_input": "2021-10-10T16:04:05.715720Z",
     "iopub.status.busy": "2021-10-10T16:04:05.715442Z",
     "iopub.status.idle": "2021-10-10T16:04:05.725029Z",
     "shell.execute_reply": "2021-10-10T16:04:05.724013Z",
     "shell.execute_reply.started": "2021-10-10T16:04:05.715693Z"
    }
   },
   "outputs": [],
   "source": [
    "train_dataset = combined_dataset.loc[combined_dataset['Target'].isna() == False,:]\n",
    "test_dataset = combined_dataset.loc[combined_dataset['Target'].isna(),:].drop(columns='Target')"
   ]
  },
  {
   "cell_type": "code",
   "execution_count": 10,
   "metadata": {
    "execution": {
     "iopub.execute_input": "2021-10-10T16:04:06.216825Z",
     "iopub.status.busy": "2021-10-10T16:04:06.215729Z",
     "iopub.status.idle": "2021-10-10T16:04:06.231811Z",
     "shell.execute_reply": "2021-10-10T16:04:06.231022Z",
     "shell.execute_reply.started": "2021-10-10T16:04:06.216777Z"
    }
   },
   "outputs": [],
   "source": [
    "train_dataset.head()"
   ]
  },
  {
   "cell_type": "code",
   "execution_count": 11,
   "metadata": {
    "execution": {
     "iopub.execute_input": "2021-10-10T16:04:06.703069Z",
     "iopub.status.busy": "2021-10-10T16:04:06.702124Z",
     "iopub.status.idle": "2021-10-10T16:04:06.713681Z",
     "shell.execute_reply": "2021-10-10T16:04:06.712774Z",
     "shell.execute_reply.started": "2021-10-10T16:04:06.703019Z"
    }
   },
   "outputs": [],
   "source": [
    "test_dataset.head()"
   ]
  },
  {
   "cell_type": "code",
   "execution_count": 12,
   "metadata": {
    "execution": {
     "iopub.execute_input": "2021-10-10T16:04:07.164558Z",
     "iopub.status.busy": "2021-10-10T16:04:07.164098Z",
     "iopub.status.idle": "2021-10-10T16:04:08.030909Z",
     "shell.execute_reply": "2021-10-10T16:04:08.030276Z",
     "shell.execute_reply.started": "2021-10-10T16:04:07.164521Z"
    }
   },
   "outputs": [],
   "source": [
    "sns.lmplot(x='x',y='Target',data= train_dataset)\n"
   ]
  },
  {
   "cell_type": "code",
   "execution_count": 13,
   "metadata": {
    "execution": {
     "iopub.execute_input": "2021-10-10T16:04:08.032633Z",
     "iopub.status.busy": "2021-10-10T16:04:08.032246Z",
     "iopub.status.idle": "2021-10-10T16:04:08.840466Z",
     "shell.execute_reply": "2021-10-10T16:04:08.839781Z",
     "shell.execute_reply.started": "2021-10-10T16:04:08.032591Z"
    }
   },
   "outputs": [],
   "source": [
    "sns.lmplot(x='y',y='Target',data= train_dataset)"
   ]
  },
  {
   "cell_type": "code",
   "execution_count": 18,
   "metadata": {
    "execution": {
     "iopub.execute_input": "2021-10-10T16:05:30.070021Z",
     "iopub.status.busy": "2021-10-10T16:05:30.069724Z",
     "iopub.status.idle": "2021-10-10T16:05:30.151622Z",
     "shell.execute_reply": "2021-10-10T16:05:30.150412Z",
     "shell.execute_reply.started": "2021-10-10T16:05:30.069989Z"
    }
   },
   "outputs": [],
   "source": [
    "X = train_dataset[['x','y']]\n",
    "Y = train_dataset[['Target']]\n",
    "\n",
    "lin_reg = linear_model.LinearRegression()\n",
    "\n",
    "minMaxScalar = preprocessing.MinMaxScaler()\n",
    "X = minMaxScalar.fit_transform(X)\n",
    "\n",
    "poly = preprocessing.PolynomialFeatures(degree = 11)\n",
    "Xpoly = poly.fit_transform(X)\n",
    "poly.fit(X,Y)\n",
    "lin_reg.fit(Xpoly,Y)\n",
    "\n",
    "Xpred = minMaxScalar.transform(test_dataset[['x','y']])\n",
    "Ypred = lin_reg.predict(poly.fit_transform(Xpred))\n",
    "test_dataset['Target'] = Ypred\n",
    "\n",
    "to_submit = test_dataset[[\"ID\", \"Target\"]]\n",
    "to_submit.to_csv(\"minMaxScaler_degree11_submission.csv\", index=False)\n"
   ]
  },
  {
   "cell_type": "code",
   "execution_count": 19,
   "metadata": {
    "execution": {
     "iopub.execute_input": "2021-10-10T16:05:31.658162Z",
     "iopub.status.busy": "2021-10-10T16:05:31.657901Z",
     "iopub.status.idle": "2021-10-10T16:05:31.733025Z",
     "shell.execute_reply": "2021-10-10T16:05:31.731837Z",
     "shell.execute_reply.started": "2021-10-10T16:05:31.658135Z"
    }
   },
   "outputs": [],
   "source": [
    "X = train_dataset[['x','y']]\n",
    "Y = train_dataset[['Target']]\n",
    "\n",
    "lin_reg2 = linear_model.LinearRegression()\n",
    "\n",
    "standardScalar = preprocessing.StandardScaler()\n",
    "X = standardScalar.fit_transform(X)\n",
    "\n",
    "poly2 = preprocessing.PolynomialFeatures(degree = 11)\n",
    "Xpoly = poly2.fit_transform(X)\n",
    "poly2.fit(X,Y)\n",
    "lin_reg2.fit(Xpoly,Y)\n",
    "\n",
    "Xpred = standardScalar.transform(test_dataset[['x','y']])\n",
    "Ypred = lin_reg2.predict(poly2.fit_transform(Xpred))\n",
    "test_dataset['Target'] = Ypred\n",
    "\n",
    "to_submit = test_dataset[[\"ID\", \"Target\"]]\n",
    "to_submit.to_csv(\"standardScaler_degree11_submission.csv\", index=False)\n"
   ]
  },
  {
   "cell_type": "code",
   "execution_count": 20,
   "metadata": {
    "execution": {
     "iopub.execute_input": "2021-10-10T16:05:33.259812Z",
     "iopub.status.busy": "2021-10-10T16:05:33.259549Z",
     "iopub.status.idle": "2021-10-10T16:05:33.343325Z",
     "shell.execute_reply": "2021-10-10T16:05:33.342127Z",
     "shell.execute_reply.started": "2021-10-10T16:05:33.259785Z"
    }
   },
   "outputs": [],
   "source": [
    "X = train_dataset[['x','y']]\n",
    "Y = train_dataset[['Target']]\n",
    "\n",
    "lin_reg3 = linear_model.LinearRegression()\n",
    "\n",
    "poly3 = preprocessing.PolynomialFeatures(degree = 11)\n",
    "Xpoly = poly3.fit_transform(X)\n",
    "poly3.fit(X,Y)\n",
    "lin_reg3.fit(Xpoly,Y)\n",
    "# ypred = lin_reg.predict(poly3.fit_transform(Xtest))\n",
    "\n",
    "Xpred = test_dataset[['x','y']]\n",
    "Ypred = lin_reg3.predict(poly3.fit_transform(Xpred))\n",
    "test_dataset['Target'] = Ypred\n",
    "\n",
    "to_submit = test_dataset[[\"ID\", \"Target\"]]\n",
    "to_submit.to_csv(\"noScaler_degree11_submission.csv\", index=False)\n"
   ]
  },
  {
   "cell_type": "code",
   "execution_count": 17,
   "metadata": {
    "execution": {
     "iopub.execute_input": "2021-10-10T16:04:10.066539Z",
     "iopub.status.busy": "2021-10-10T16:04:10.066256Z",
     "iopub.status.idle": "2021-10-10T16:04:10.070536Z",
     "shell.execute_reply": "2021-10-10T16:04:10.069619Z",
     "shell.execute_reply.started": "2021-10-10T16:04:10.066510Z"
    }
   },
   "outputs": [],
   "source": [
    "# model = linear_model.LogisticRegression(max_iter=1000, C = 0.1, class_weight = 'balanced', solver = 'liblinear')\n",
    "# model.fit(x_scaled, main_y)\n",
    "# # test_x_scaled = scaler.transform(kaggle_test_x)\n",
    "# kaggle_yhat = lin_reg.predict(poly.fit_transform(test_dataset[['x','y']]))\n",
    "# kaggle_yhat.reshape((5000,))\n",
    "# print(kaggle_yhat.shape)"
   ]
  },
  {
   "cell_type": "code",
   "execution_count": null,
   "metadata": {
    "execution": {
     "iopub.execute_input": "2021-10-10T15:59:51.935642Z",
     "iopub.status.busy": "2021-10-10T15:59:51.934917Z",
     "iopub.status.idle": "2021-10-10T15:59:51.946191Z",
     "shell.execute_reply": "2021-10-10T15:59:51.944908Z",
     "shell.execute_reply.started": "2021-10-10T15:59:51.935594Z"
    }
   },
   "outputs": [],
   "source": [
    "# test_dataset['Target'] = kaggle_yhat\n",
    "# test_dataset['Target'] = test_dataset[''].astype(\"float\")"
   ]
  },
  {
   "cell_type": "code",
   "execution_count": null,
   "metadata": {
    "execution": {
     "iopub.execute_input": "2021-10-10T15:59:51.948807Z",
     "iopub.status.busy": "2021-10-10T15:59:51.948136Z",
     "iopub.status.idle": "2021-10-10T15:59:51.957222Z",
     "shell.execute_reply": "2021-10-10T15:59:51.955982Z",
     "shell.execute_reply.started": "2021-10-10T15:59:51.948759Z"
    }
   },
   "outputs": [],
   "source": [
    "# to_submit = test_dataset[[\"ID\", \"Target\"]]\n",
    "# to_submit.to_csv(\"second_submission.csv\", index=False)"
   ]
  },
  {
   "cell_type": "code",
   "execution_count": null,
   "metadata": {},
   "outputs": [],
   "source": []
  }
 ],
 "metadata": {
  "kernelspec": {
   "display_name": "Python 3 (ipykernel)",
   "language": "python",
   "name": "python3"
  },
  "language_info": {
   "codemirror_mode": {
    "name": "ipython",
    "version": 3
   },
   "file_extension": ".py",
   "mimetype": "text/x-python",
   "name": "python",
   "nbconvert_exporter": "python",
   "pygments_lexer": "ipython3",
   "version": "3.8.10"
  }
 },
 "nbformat": 4,
 "nbformat_minor": 4
}
